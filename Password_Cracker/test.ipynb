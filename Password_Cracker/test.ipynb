{
 "cells": [
  {
   "cell_type": "code",
   "execution_count": 1,
   "id": "d9779d97-d745-49df-934d-9b9b14b844fc",
   "metadata": {
    "scrolled": true
   },
   "outputs": [],
   "source": [
    "from password_cracker import PasswordCracker\n",
    "from rainbow_table import RainbowTable\n",
    "import hashlib\n"
   ]
  },
  {
   "cell_type": "code",
   "execution_count": 3,
   "id": "31f03e18-575c-4d90-9d2a-0304190fce8b",
   "metadata": {},
   "outputs": [
    {
     "name": "stdout",
     "output_type": "stream",
     "text": [
      "password -> 5e884898da28047151d0e56f8dc6292773603d0d6aabbdd62a11ef721d1542d8\n",
      "123456 -> 8d969eef6ecad3c29a3a629280e686cf0c3f5d5a86aff3ca12020c923adc6c92\n",
      "qwerty -> 65e84be33532fb784c48129675f9eff3a682b27168c0ea744b2cf58ee02337c5\n",
      "hello -> 2cf24dba5fb0a30e26e83b2ac5b9e29e1b161e5c1fa7425e73043362938b9824\n",
      "Rainbow table generated and saved.\n"
     ]
    }
   ],
   "source": [
    "from rainbow_table import RainbowTable\n",
    "\n",
    "rainbow = RainbowTable(hash_type='sha256', min_len=1, max_len=10)  # max_len increased\n",
    "rainbow.generate('mini.txt')\n",
    "print(\"Rainbow table generated and saved.\")\n"
   ]
  },
  {
   "cell_type": "code",
   "execution_count": 5,
   "id": "44ecf4d1-bbe5-4384-909d-a11a5736227c",
   "metadata": {},
   "outputs": [
    {
     "name": "stdout",
     "output_type": "stream",
     "text": [
      "password -> 5e884898da28047151d0e56f8dc6292773603d0d6aabbdd62a11ef721d1542d8\n",
      "123456 -> 8d969eef6ecad3c29a3a629280e686cf0c3f5d5a86aff3ca12020c923adc6c92\n",
      "qwerty -> 65e84be33532fb784c48129675f9eff3a682b27168c0ea744b2cf58ee02337c5\n",
      "hello -> 2cf24dba5fb0a30e26e83b2ac5b9e29e1b161e5c1fa7425e73043362938b9824\n",
      "[+] Password found (rainbow): 123456\n"
     ]
    }
   ],
   "source": [
    "!python gui.py"
   ]
  },
  {
   "cell_type": "code",
   "execution_count": null,
   "id": "5b24b91d-2fe7-4230-acc3-318eaf9a11ca",
   "metadata": {},
   "outputs": [],
   "source": []
  }
 ],
 "metadata": {
  "kernelspec": {
   "display_name": "Python [conda env:base] *",
   "language": "python",
   "name": "conda-base-py"
  },
  "language_info": {
   "codemirror_mode": {
    "name": "ipython",
    "version": 3
   },
   "file_extension": ".py",
   "mimetype": "text/x-python",
   "name": "python",
   "nbconvert_exporter": "python",
   "pygments_lexer": "ipython3",
   "version": "3.12.7"
  }
 },
 "nbformat": 4,
 "nbformat_minor": 5
}
